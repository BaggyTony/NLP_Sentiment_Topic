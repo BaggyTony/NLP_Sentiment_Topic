{
 "cells": [
  {
   "cell_type": "markdown",
   "metadata": {},
   "source": [
    "## 1. Imports"
   ]
  },
  {
   "cell_type": "markdown",
   "metadata": {},
   "source": [
    "### 1.1 Standard imports"
   ]
  },
  {
   "cell_type": "code",
   "execution_count": 1,
   "metadata": {},
   "outputs": [],
   "source": [
    "# Import standard packages\n",
    "import pandas as pd\n",
    "import numpy as np\n",
    "import os\n",
    "import matplotlib.pyplot as plt"
   ]
  },
  {
   "cell_type": "markdown",
   "metadata": {},
   "source": [
    "### 1.2 NLP packages"
   ]
  },
  {
   "cell_type": "code",
   "execution_count": 2,
   "metadata": {},
   "outputs": [
    {
     "name": "stderr",
     "output_type": "stream",
     "text": [
      "[nltk_data] Downloading package vader_lexicon to\n",
      "[nltk_data]     /Users/maxencedubois/nltk_data...\n",
      "[nltk_data]   Package vader_lexicon is already up-to-date!\n",
      "[nltk_data] Downloading package punkt to\n",
      "[nltk_data]     /Users/maxencedubois/nltk_data...\n",
      "[nltk_data]   Package punkt is already up-to-date!\n"
     ]
    },
    {
     "data": {
      "text/plain": [
       "True"
      ]
     },
     "execution_count": 2,
     "metadata": {},
     "output_type": "execute_result"
    }
   ],
   "source": [
    "import nltk\n",
    "nltk.download('vader_lexicon')\n",
    "nltk.download('punkt')"
   ]
  },
  {
   "cell_type": "code",
   "execution_count": 3,
   "metadata": {},
   "outputs": [
    {
     "name": "stderr",
     "output_type": "stream",
     "text": [
      "/Library/Frameworks/Python.framework/Versions/3.8/lib/python3.8/site-packages/tqdm/auto.py:22: TqdmWarning: IProgress not found. Please update jupyter and ipywidgets. See https://ipywidgets.readthedocs.io/en/stable/user_install.html\n",
      "  from .autonotebook import tqdm as notebook_tqdm\n"
     ]
    }
   ],
   "source": [
    "# Import NLP packages because they take a while to load so only import them when needed\n",
    "from transformers import pipeline\n",
    "from transformers import BertTokenizer, TFBertForSequenceClassification\n",
    "from transformers import InputExample, InputFeatures\n",
    "import nltk\n",
    "import string\n",
    "from nltk.sentiment.vader import SentimentIntensityAnalyzer\n",
    "\n",
    "from transformers import AutoTokenizer, AutoModelForSequenceClassification, AutoConfig, TFAutoModelForSequenceClassification\n",
    "import torch\n",
    "import re\n",
    "\n",
    "from scipy.special import softmax\n",
    "\n",
    "# Topic Classification using BerTOPIC\n",
    "\n",
    "from bertopic import BERTopic\n",
    "from bertopic.vectorizers import ClassTfidfTransformer\n"
   ]
  },
  {
   "cell_type": "markdown",
   "metadata": {},
   "source": [
    "### 1.3 Data import"
   ]
  },
  {
   "cell_type": "code",
   "execution_count": 42,
   "metadata": {},
   "outputs": [],
   "source": [
    "# Import all the relevant files\n",
    "\n",
    "path_to_data_folder = os.getcwd()  # This gets the current working directory\n",
    "\n",
    "files = [f for f in os.listdir() if f.endswith('.xlsx')]\n"
   ]
  },
  {
   "cell_type": "markdown",
   "metadata": {},
   "source": [
    "## 2. Data formatting"
   ]
  },
  {
   "cell_type": "code",
   "execution_count": 12,
   "metadata": {},
   "outputs": [],
   "source": [
    "## bring each file into a DF\n",
    "post_event = pd.read_excel(os.path.join(path_to_data_folder, files[0]), engine='openpyxl')\n",
    "learning_connections = pd.read_excel(os.path.join(path_to_data_folder, files[2]), engine='openpyxl')\n",
    "governance = pd.read_excel(os.path.join(path_to_data_folder, files[3]), engine='openpyxl')\n",
    "pre_event = pd.read_excel(os.path.join(path_to_data_folder, files[5]), engine='openpyxl')"
   ]
  },
  {
   "cell_type": "code",
   "execution_count": 18,
   "metadata": {},
   "outputs": [],
   "source": [
    "# Create a unique index for each row for when we unpivot and lengthen the data frame\n",
    "post_event.index = post_event.index.map(lambda x: 'pst_{}'.format(x+1))\n",
    "pre_event.index = pre_event.index.map(lambda x: 'pre_{}'.format(x+1))\n",
    "learning_connections.index = learning_connections.index.map(lambda x: 'lc{}'.format(x+1))\n",
    "governance.index = governance.index.map(lambda x: 'gov_{}'.format(x+1))"
   ]
  },
  {
   "cell_type": "code",
   "execution_count": null,
   "metadata": {},
   "outputs": [],
   "source": [
    "# Isolate just the qualitatitve responses\n",
    "post_event_qual = post_event[['answer_q1','answer_q2']]\n",
    "pre_event_qual = pre_event[['answer_q1','answer_q2']]\n",
    "learning_connections_qual = learning_connections[[\"'answer_q1','answer_q2'\"]]\n",
    "governance_qual = governance[[\"'answer_q1','answer_q2'\"]]"
   ]
  },
  {
   "cell_type": "code",
   "execution_count": 20,
   "metadata": {},
   "outputs": [],
   "source": [
    "# Rename the column that describes what role the respondent has so they are all consistent\n",
    "for d in [post_event_qual, pre_event_qual, learning_connections_qual, governance_qual]:\n",
    "    d.rename(columns = {d.columns[0]: \"role\"}, inplace=True)"
   ]
  },
  {
   "cell_type": "code",
   "execution_count": 21,
   "metadata": {},
   "outputs": [],
   "source": [
    "# Unpivot the dataframes into long form for easier analysis\n",
    "post_event_melt = pd.melt(post_event_qual, id_vars='role', ignore_index = False).dropna().reset_index()\n",
    "pre_event_melt = pd.melt(pre_event_qual, id_vars='role', ignore_index = False).dropna().reset_index()\n",
    "learning_connections_melt = pd.melt(learning_connections_qual, id_vars='role', ignore_index = False).dropna().reset_index()\n",
    "governance_melt = pd.melt(governance_qual, id_vars='role', ignore_index = False).dropna().reset_index()"
   ]
  },
  {
   "cell_type": "code",
   "execution_count": 22,
   "metadata": {},
   "outputs": [],
   "source": [
    "# Concatenate all the data into one long dataframe\n",
    "all_qual = pd.concat([post_event_melt, pre_event_melt, learning_connections_melt, governance_melt], ignore_index=True)"
   ]
  },
  {
   "cell_type": "code",
   "execution_count": null,
   "metadata": {},
   "outputs": [],
   "source": [
    "all_qual.head()"
   ]
  },
  {
   "cell_type": "code",
   "execution_count": 24,
   "metadata": {},
   "outputs": [],
   "source": [
    "# Selecting relevant questions (open non-oriented questions)\n",
    "open_neutral_questions = all_qual[all_qual['variable'].str.startswith(('Is there', 'Anything else'))]\n",
    "open_neutral_questions.reset_index(drop=True, inplace=True)\n"
   ]
  },
  {
   "cell_type": "code",
   "execution_count": 25,
   "metadata": {},
   "outputs": [],
   "source": [
    "# Splitting in sentences\n",
    "\n",
    "def split_sentences(text):\n",
    "    return nltk.sent_tokenize(text)\n",
    "\n",
    "\n",
    "sentences = open_neutral_questions['value'].apply(split_sentences)\n",
    "\n",
    "sentences_df = pd.DataFrame({\n",
    "    'value': [sentence for sentences_per_row in sentences for sentence in sentences_per_row],\n",
    "    **open_neutral_questions.drop('value', axis=1).loc[0].to_dict()\n",
    "})"
   ]
  },
  {
   "cell_type": "markdown",
   "metadata": {},
   "source": [
    "## 3. Sentiment analysis"
   ]
  },
  {
   "cell_type": "markdown",
   "metadata": {},
   "source": [
    "### 3.1 Models"
   ]
  },
  {
   "cell_type": "markdown",
   "metadata": {},
   "source": [
    "#### 3.1.1 SentimentIntensityAnalyser"
   ]
  },
  {
   "cell_type": "code",
   "execution_count": 26,
   "metadata": {},
   "outputs": [],
   "source": [
    "### Conduct Sentiment analysis with NLTK\n",
    "\n",
    "sia = SentimentIntensityAnalyzer()\n",
    "\n",
    "def categorize_sentiment(sentence):\n",
    "    score = sia.polarity_scores(sentence)['compound']\n",
    "    if score >= 0.05:\n",
    "        return \"Positive\"\n",
    "    elif score <= -0.05:\n",
    "        return \"Negative\"\n",
    "    else:\n",
    "        return \"Neutral\"\n",
    "\n",
    "# All questions\n",
    "\n",
    "all_qual['sentiment_NLTK'] = all_qual['value'].apply(categorize_sentiment)\n",
    "\n",
    "# Non-oriented sentences\n",
    "\n",
    "sentences_df['sentiment_NLTK'] = sentences_df['value'].apply(categorize_sentiment)\n"
   ]
  },
  {
   "cell_type": "markdown",
   "metadata": {},
   "source": [
    "#### 3.1.2 Bert "
   ]
  },
  {
   "cell_type": "code",
   "execution_count": 27,
   "metadata": {},
   "outputs": [],
   "source": [
    "# Conduct Sentiment analysis with BERT\n",
    "\n",
    "model = AutoModelForSequenceClassification.from_pretrained(\"nlptown/bert-base-multilingual-uncased-sentiment\")\n",
    "tokenizer = AutoTokenizer.from_pretrained(\"nlptown/bert-base-multilingual-uncased-sentiment\")\n",
    "\n",
    "\n",
    "# result.logits gives you a list of five values and argmax gives you the position of the highest value. the position in the\n",
    "# list of the highest value represents the sentiment. So if the highest value was in position 0 this represents the most negative\n",
    "# sentiment, ranging to position 4 which is the most positive.\n",
    "\n",
    "def bert_sentiment(text):    \n",
    "    if len(tokenizer.tokenize(text)) > 500:\n",
    "        return \"Text is too long\"\n",
    "    else:\n",
    "        tokens = tokenizer.encode(text, return_tensors='pt')\n",
    "        result = model(tokens)\n",
    "        # I will convert the values to be 1-5 instead of 0-4 as its more intuitive\n",
    "        sentiment = int(torch.argmax(result.logits)) + 1\n",
    "        if sentiment == 1:\n",
    "            text_sentiment = \"Most_negative\"\n",
    "        elif sentiment == 2:\n",
    "            text_sentiment = \"Somewhat_negative\"\n",
    "        elif sentiment == 3:\n",
    "            text_sentiment = \"Neutral\"\n",
    "        elif sentiment == 4:\n",
    "            text_sentiment = \"Somewhat_positive\"\n",
    "        elif sentiment == 5:\n",
    "            text_sentiment = \"Most_positive\"\n",
    "        else:\n",
    "            text_sentiment = 'NaN'\n",
    "        return text_sentiment\n",
    "    "
   ]
  },
  {
   "cell_type": "code",
   "execution_count": 28,
   "metadata": {},
   "outputs": [
    {
     "name": "stderr",
     "output_type": "stream",
     "text": [
      "Token indices sequence length is longer than the specified maximum sequence length for this model (927 > 512). Running this sequence through the model will result in indexing errors\n"
     ]
    }
   ],
   "source": [
    "# All questions\n",
    "\n",
    "all_qual['sentiment_BERT'] = all_qual['value'].apply(bert_sentiment)\n"
   ]
  },
  {
   "cell_type": "code",
   "execution_count": 29,
   "metadata": {},
   "outputs": [],
   "source": [
    "# Non-oriented questions\n",
    "\n",
    "sentences_df['sentiment_BERT'] = sentences_df['value'].apply(bert_sentiment)"
   ]
  },
  {
   "cell_type": "markdown",
   "metadata": {},
   "source": [
    "#### 3.1.3 Roberta"
   ]
  },
  {
   "cell_type": "code",
   "execution_count": 31,
   "metadata": {},
   "outputs": [
    {
     "name": "stderr",
     "output_type": "stream",
     "text": [
      "Some weights of the model checkpoint at cardiffnlp/twitter-roberta-base-sentiment-latest were not used when initializing RobertaForSequenceClassification: ['roberta.pooler.dense.weight', 'roberta.pooler.dense.bias']\n",
      "- This IS expected if you are initializing RobertaForSequenceClassification from the checkpoint of a model trained on another task or with another architecture (e.g. initializing a BertForSequenceClassification model from a BertForPreTraining model).\n",
      "- This IS NOT expected if you are initializing RobertaForSequenceClassification from the checkpoint of a model that you expect to be exactly identical (initializing a BertForSequenceClassification model from a BertForSequenceClassification model).\n"
     ]
    }
   ],
   "source": [
    "# Sentiment analysis using Roberta\n",
    "MODEL = f\"cardiffnlp/twitter-roberta-base-sentiment-latest\"\n",
    "tokenizer = AutoTokenizer.from_pretrained(MODEL)\n",
    "config = AutoConfig.from_pretrained(MODEL)\n",
    "model = AutoModelForSequenceClassification.from_pretrained(MODEL)\n",
    "def roberta_sentiment(text):   \n",
    "    if len(tokenizer.tokenize(text)) > 500:\n",
    "        return \"Text is too long\"\n",
    "    else:\n",
    "        encoded_input = tokenizer(text, return_tensors='pt')\n",
    "        output = model(**encoded_input)\n",
    "        scores = output[0][0].detach().numpy()\n",
    "        scores = softmax(scores)\n",
    "        ranking = np.argsort(scores)\n",
    "        ranking = ranking[::-1]    \n",
    "        for i in range(scores.shape[0]):        \n",
    "            l = config.id2label[ranking[i]]\n",
    "            s = scores[ranking[i]]        \n",
    "        label_index = np.argmax(scores)\n",
    "        label = config.id2label[label_index]    \n",
    "        return label\n",
    "\n",
    "\n"
   ]
  },
  {
   "cell_type": "code",
   "execution_count": 32,
   "metadata": {},
   "outputs": [],
   "source": [
    "all_qual['sentiment_robBERTa'] = all_qual['value'].apply(roberta_sentiment)\n",
    "\n",
    "# Non-oriented questions\n",
    "\n",
    "sentences_df['sentiment_robBERTa'] = sentences_df['value'].apply(roberta_sentiment)"
   ]
  },
  {
   "cell_type": "code",
   "execution_count": null,
   "metadata": {},
   "outputs": [],
   "source": [
    "sentences_df"
   ]
  },
  {
   "cell_type": "markdown",
   "metadata": {},
   "source": [
    "### 3.2 Model selection"
   ]
  },
  {
   "cell_type": "markdown",
   "metadata": {},
   "source": [
    "#### 3.2.1 Test set (post-event data + learning connections)"
   ]
  },
  {
   "cell_type": "code",
   "execution_count": 34,
   "metadata": {},
   "outputs": [],
   "source": [
    "# Randomly selecting 150 rows for human evaluation \n",
    "\n",
    "random_selection = sentences_df.sample(n=150, random_state=42)\n",
    "random_selection.reset_index(drop=True, inplace=True)\n",
    "\n",
    "# Saving as excel document to then do the evaluation\n",
    "random_selection.to_excel('random_selection.xlsx', index=False)"
   ]
  },
  {
   "cell_type": "code",
   "execution_count": 44,
   "metadata": {},
   "outputs": [],
   "source": [
    "# Importing the manually classified data\n",
    "random_classified = pd.read_excel(os.path.join(path_to_data_folder, files[4]), engine='openpyxl')"
   ]
  },
  {
   "cell_type": "code",
   "execution_count": 38,
   "metadata": {},
   "outputs": [],
   "source": [
    "# Replacing outcomes by numerical values\n",
    "\n",
    "random_selection['sentiment_NLTK'] = random_selection['sentiment_NLTK'].replace({\n",
    "    'Positive': 1,\n",
    "    'Neutral': 0,\n",
    "    'Negative': -1\n",
    "})\n",
    "\n",
    "random_selection['sentiment_BERT'] = random_selection['sentiment_BERT'].replace({\n",
    "    'Most_positive': 1,\n",
    "    'Somewhat_positive': 1,\n",
    "    'Neutral': 0,\n",
    "    'Somewhat_negative': -1,\n",
    "    'Most_negative': -1,\n",
    "})\n",
    "\n",
    "random_selection['sentiment_robBERTa'] = random_selection['sentiment_robBERTa'].replace({\n",
    "    'positive': 1,\n",
    "    'neutral': 0,\n",
    "    'negative': -1\n",
    "})"
   ]
  },
  {
   "cell_type": "code",
   "execution_count": 57,
   "metadata": {},
   "outputs": [],
   "source": [
    "random_selection['sentiment_AGGREGATED'] = np.where(random_selection['sentiment_NLTK'] + random_selection['sentiment_BERT'] + random_selection['sentiment_robBERTa']> 0, 1,\n",
    "                            np.where(random_selection['sentiment_NLTK'] + random_selection['sentiment_BERT'] + random_selection['sentiment_robBERTa'] == 0, 0, -1))\n",
    "\n",
    "\n",
    "\n",
    "\n",
    "\n",
    "\n",
    "    "
   ]
  },
  {
   "cell_type": "markdown",
   "metadata": {},
   "source": [
    "#### 3.2.2 Models evaluation & selection"
   ]
  },
  {
   "cell_type": "code",
   "execution_count": 77,
   "metadata": {},
   "outputs": [],
   "source": [
    "random_selection['Y_true'] = random_classified['Unnamed: 1']\n",
    "y_test = random_selection['Y_true']\n",
    "y_pred_NLTK = random_selection['sentiment_NLTK']\n",
    "y_pred_BERT = random_selection['sentiment_BERT']\n",
    "y_pred_robBERTa = random_selection['sentiment_robBERTa']\n",
    "y_pred_AGG = random_selection['sentiment_AGGREGATED']"
   ]
  },
  {
   "cell_type": "code",
   "execution_count": 78,
   "metadata": {},
   "outputs": [
    {
     "data": {
      "text/plain": [
       " 1    69\n",
       "-1    50\n",
       " 0    31\n",
       "Name: Y_true, dtype: int64"
      ]
     },
     "execution_count": 78,
     "metadata": {},
     "output_type": "execute_result"
    }
   ],
   "source": [
    "y_test.value_counts()"
   ]
  },
  {
   "cell_type": "code",
   "execution_count": 85,
   "metadata": {},
   "outputs": [
    {
     "name": "stdout",
     "output_type": "stream",
     "text": [
      "              precision    recall  f1-score   support\n",
      "\n",
      "          -1       0.72      0.26      0.38        50\n",
      "           0       0.30      0.26      0.28        31\n",
      "           1       0.61      0.93      0.74        69\n",
      "\n",
      "    accuracy                           0.57       150\n",
      "   macro avg       0.54      0.48      0.46       150\n",
      "weighted avg       0.58      0.57      0.52       150\n",
      "\n"
     ]
    },
    {
     "data": {
      "image/png": "[encoded data removed]",
      "text/plain": [
       "<Figure size 432x288 with 2 Axes>"
      ]
     },
     "metadata": {
      "needs_background": "light"
     },
     "output_type": "display_data"
    }
   ],
   "source": [
    "from sklearn.metrics import accuracy_score, roc_auc_score, confusion_matrix, classification_report, precision_score,     recall_score, roc_curve, auc, plot_confusion_matrix, explained_variance_score, f1_score\n",
    "from sklearn.metrics import cohen_kappa_score\n",
    "from sklearn import metrics\n",
    "\n",
    "\n",
    "\n",
    "\n",
    "print(classification_report(y_test,y_pred_NLTK))\n",
    "\n",
    "confusion_matrix = metrics.confusion_matrix(y_test,y_pred_NLTK)\n",
    "cm_display = metrics.ConfusionMatrixDisplay(confusion_matrix = confusion_matrix, display_labels = ['Neg', 'Neut','Pos'])\n",
    "cm_display.plot()\n",
    "plt.show()"
   ]
  },
  {
   "cell_type": "code",
   "execution_count": 86,
   "metadata": {},
   "outputs": [
    {
     "name": "stdout",
     "output_type": "stream",
     "text": [
      "              precision    recall  f1-score   support\n",
      "\n",
      "          -1       0.69      0.44      0.54        50\n",
      "           0       0.28      0.35      0.31        31\n",
      "           1       0.85      0.96      0.90        69\n",
      "\n",
      "    accuracy                           0.66       150\n",
      "   macro avg       0.60      0.58      0.58       150\n",
      "weighted avg       0.68      0.66      0.66       150\n",
      "\n"
     ]
    },
    {
     "data": {
      "image/png": "[encoded data removed]",
      "text/plain": [
       "<Figure size 432x288 with 2 Axes>"
      ]
     },
     "metadata": {
      "needs_background": "light"
     },
     "output_type": "display_data"
    }
   ],
   "source": [
    "print(classification_report(y_test,y_pred_BERT))\n",
    "\n",
    "confusion_matrix = metrics.confusion_matrix(y_test,y_pred_BERT)\n",
    "cm_display = metrics.ConfusionMatrixDisplay(confusion_matrix = confusion_matrix, display_labels = ['Neg', 'Neut','Pos'])\n",
    "cm_display.plot()\n",
    "plt.show()"
   ]
  },
  {
   "cell_type": "code",
   "execution_count": 87,
   "metadata": {},
   "outputs": [
    {
     "name": "stdout",
     "output_type": "stream",
     "text": [
      "              precision    recall  f1-score   support\n",
      "\n",
      "          -1       0.86      0.48      0.62        50\n",
      "           0       0.54      0.71      0.61        31\n",
      "           1       0.84      0.99      0.91        69\n",
      "\n",
      "    accuracy                           0.76       150\n",
      "   macro avg       0.74      0.73      0.71       150\n",
      "weighted avg       0.78      0.76      0.75       150\n",
      "\n"
     ]
    },
    {
     "data": {
      "image/png": "[encoded data removed]",
      "text/plain": [
       "<Figure size 432x288 with 2 Axes>"
      ]
     },
     "metadata": {
      "needs_background": "light"
     },
     "output_type": "display_data"
    }
   ],
   "source": [
    "print(classification_report(y_test,y_pred_robBERTa))\n",
    "\n",
    "confusion_matrix = metrics.confusion_matrix(y_test,y_pred_robBERTa)\n",
    "cm_display = metrics.ConfusionMatrixDisplay(confusion_matrix = confusion_matrix, display_labels = ['Neg', 'Neut','Pos'])\n",
    "cm_display.plot()\n",
    "plt.show()"
   ]
  },
  {
   "cell_type": "code",
   "execution_count": 88,
   "metadata": {},
   "outputs": [
    {
     "name": "stdout",
     "output_type": "stream",
     "text": [
      "              precision    recall  f1-score   support\n",
      "\n",
      "          -1       0.77      0.54      0.64        50\n",
      "           0       0.38      0.16      0.23        31\n",
      "           1       0.68      1.00      0.81        69\n",
      "\n",
      "    accuracy                           0.67       150\n",
      "   macro avg       0.61      0.57      0.56       150\n",
      "weighted avg       0.65      0.67      0.63       150\n",
      "\n"
     ]
    },
    {
     "data": {
      "image/png": "[encoded data removed]",
      "text/plain": [
       "<Figure size 432x288 with 2 Axes>"
      ]
     },
     "metadata": {
      "needs_background": "light"
     },
     "output_type": "display_data"
    }
   ],
   "source": [
    "print(classification_report(y_test,y_pred_AGG))\n",
    "\n",
    "confusion_matrix = metrics.confusion_matrix(y_test,y_pred_AGG)\n",
    "cm_display = metrics.ConfusionMatrixDisplay(confusion_matrix = confusion_matrix, display_labels = ['Neg', 'Neut','Pos'])\n",
    "cm_display.plot()\n",
    "plt.show()"
   ]
  },
  {
   "cell_type": "markdown",
   "metadata": {},
   "source": [
    "#### 3.2.3 Final results"
   ]
  },
  {
   "cell_type": "markdown",
   "metadata": {},
   "source": [
    "**Looking at recall, precision and accuracy the robBERTA model clearly outperforms the other models, let us know have a look at the misclassified data** "
   ]
  },
  {
   "cell_type": "code",
   "execution_count": 89,
   "metadata": {},
   "outputs": [
    {
     "name": "stdout",
     "output_type": "stream",
     "text": [
      "              precision    recall  f1-score   support\n",
      "\n",
      "          -1       0.86      0.48      0.62        50\n",
      "           0       0.54      0.71      0.61        31\n",
      "           1       0.84      0.99      0.91        69\n",
      "\n",
      "    accuracy                           0.76       150\n",
      "   macro avg       0.74      0.73      0.71       150\n",
      "weighted avg       0.78      0.76      0.75       150\n",
      "\n"
     ]
    },
    {
     "data": {
      "image/png": "[encoded data removed]",
      "text/plain": [
       "<Figure size 432x288 with 2 Axes>"
      ]
     },
     "metadata": {
      "needs_background": "light"
     },
     "output_type": "display_data"
    }
   ],
   "source": [
    "print(classification_report(y_test,y_pred_robBERTa))\n",
    "\n",
    "confusion_matrix = metrics.confusion_matrix(y_test,y_pred_robBERTa)\n",
    "cm_display = metrics.ConfusionMatrixDisplay(confusion_matrix = confusion_matrix, display_labels = ['Neg', 'Neut','Pos'])\n",
    "cm_display.plot()\n",
    "plt.show()"
   ]
  },
  {
   "cell_type": "markdown",
   "metadata": {},
   "source": [
    "<ul>\n",
    "    \n",
    "<li>We observe that no truly positive comment is assessed as negative, one truly positive comment is assessed as neutral. </li>\n",
    "    \n",
    "    \n",
    "<li>We observe that 8 truly negative sentences are classified as positive and 18 truly negative comments are classified as neutral (vs 1 pos as neutral) --> to investigate</li>\n",
    "    \n",
    "   \n",
    "<li>We observe that a few neutral comments are missclassified (not a a major problem)</li>\n",
    "\n",
    "</ul>\n",
    "\n",
    " \n"
   ]
  },
  {
   "cell_type": "markdown",
   "metadata": {},
   "source": [
    "\n",
    "<ul>\n",
    "    \n",
    "**<li>We observe that many of those sentences include positive adjectives but with conditional --> The idea would be to reclassify the positive sentence that include conditional into negative sentiments</li>**\n",
    "    \n",
    "    \n",
    "**<li>Let us try to reclassify sentence including \"Could\" and \"Would and observe\" the results)</li>**\n",
    "    \n",
    "\n",
    "</ul>\n",
    "\n",
    " "
   ]
  },
  {
   "cell_type": "code",
   "execution_count": null,
   "metadata": {},
   "outputs": [],
   "source": [
    "# Closer look at negative answers classified as positive\n",
    "\n",
    "for i in random_selection[(random_selection['Y_true'] == -1) & (random_selection['sentiment_robBERTa'] == 1)]['value']:\n",
    "    print(i)\n",
    "    print() "
   ]
  },
  {
   "cell_type": "code",
   "execution_count": null,
   "metadata": {},
   "outputs": [],
   "source": [
    "# Closer look at negative answers classified as neutral\n",
    "\n",
    "for i in random_selection[(random_selection['Y_true'] == -1) & (random_selection['sentiment_robBERTa'] == 0)]['value']:\n",
    "    print(i)\n",
    "    print() \n"
   ]
  },
  {
   "cell_type": "markdown",
   "metadata": {},
   "source": [
    "<ul>\n",
    "    \n",
    "**<li>Again, changing would and could, would help improve the results </li>**\n",
    "    \n",
    "</ul>\n"
   ]
  },
  {
   "cell_type": "code",
   "execution_count": 136,
   "metadata": {},
   "outputs": [],
   "source": [
    "# Lets create the \"corrected robBERTA\" model\n",
    "\n",
    "random_selection['CORRECTED_sentiment_robBERTa'] = random_selection['sentiment_robBERTa'] \n",
    "random_selection['Neg_words'] = random_selection['value'].str.contains('would|could|Would|Could|hope|hoping').astype(int)\n",
    "random_selection.loc[random_selection['Neg_words'] == 1, 'CORRECTED_sentiment_robBERTa'] = -1\n"
   ]
  },
  {
   "cell_type": "code",
   "execution_count": 137,
   "metadata": {},
   "outputs": [
    {
     "name": "stdout",
     "output_type": "stream",
     "text": [
      "              precision    recall  f1-score   support\n",
      "\n",
      "          -1       0.78      0.76      0.77        50\n",
      "           0       0.61      0.61      0.61        31\n",
      "           1       0.91      0.93      0.92        69\n",
      "\n",
      "    accuracy                           0.81       150\n",
      "   macro avg       0.77      0.77      0.77       150\n",
      "weighted avg       0.81      0.81      0.81       150\n",
      "\n"
     ]
    },
    {
     "data": {
      "image/png": "[encoded data removed]",
      "text/plain": [
       "<Figure size 432x288 with 2 Axes>"
      ]
     },
     "metadata": {
      "needs_background": "light"
     },
     "output_type": "display_data"
    }
   ],
   "source": [
    "y_pred_Corr = random_selection['CORRECTED_sentiment_robBERTa']\n",
    "\n",
    "print(classification_report(y_test,y_pred_Corr))\n",
    "\n",
    "confusion_matrix = metrics.confusion_matrix(y_test,y_pred_Corr)\n",
    "cm_display = metrics.ConfusionMatrixDisplay(confusion_matrix = confusion_matrix, display_labels = ['Neg', 'Neut','Pos'])\n",
    "cm_display.plot()\n",
    "plt.show()\n"
   ]
  },
  {
   "cell_type": "markdown",
   "metadata": {},
   "source": [
    "<ul>\n",
    "    \n",
    "**<li>Overral, this model performs better. Nevertheless, it is important to mention that some words containing the word \"would\" our \"could\" are related to positive sentences. </li>**\n",
    "    \n",
    "**<li> It is now time to do the correction on the 600 answers </li>**\n",
    "    \n",
    "    \n",
    "</ul>\n"
   ]
  },
  {
   "cell_type": "code",
   "execution_count": null,
   "metadata": {},
   "outputs": [],
   "source": [
    "# Closer look at positive answers classified as negative\n",
    "\n",
    "for i in random_selection[(random_selection['Y_true'] == 1) & (random_selection['CORRECTED_sentiment_robBERTa'] == -1)]['value']:\n",
    "    print(i)\n",
    "    print() \n"
   ]
  },
  {
   "cell_type": "code",
   "execution_count": null,
   "metadata": {},
   "outputs": [],
   "source": [
    "# This step includes getting back to the original data (sentences_df), and correct the roBERTa results\n",
    "\n",
    "final_sentences = sentences_df.drop(['sentiment_NLTK'],axis=1)\n",
    "final_sentences.drop(['sentiment_BERT'],axis=1)\n",
    "\n",
    "final_sentences['sentiment_robBERTa'] = final_sentences['sentiment_robBERTa'].replace({\n",
    "    'positive': 1,\n",
    "    'neutral': 0,\n",
    "    'negative': -1\n",
    "})\n",
    "\n",
    "\n",
    "final_sentences['CORRECTED_sentiment_robBERTa'] = final_sentences['sentiment_robBERTa'] \n",
    "final_sentences['Neg_words'] = final_sentences['value'].str.contains('would|could|Would|Could|hope|hoping').astype(int)\n",
    "final_sentences.loc[final_sentences['Neg_words'] == 1, 'CORRECTED_sentiment_robBERTa'] = -1\n",
    "final_sentences = final_sentences.drop('Neg_words',axis=1)\n",
    "final_sentences = final_sentences.drop('sentiment_robBERTa',axis=1)\n",
    "final_sentences = final_sentences.drop('sentiment_BERT',axis=1)\n",
    "\n",
    "final_sentences.head()"
   ]
  },
  {
   "cell_type": "code",
   "execution_count": 173,
   "metadata": {},
   "outputs": [],
   "source": [
    "final_sentences.to_excel('final_data.xlsx', index=False)\n"
   ]
  },
  {
   "cell_type": "code",
   "execution_count": 175,
   "metadata": {},
   "outputs": [],
   "source": [
    "final_sentences_short = final_sentences[~final_sentences['value'].apply(lambda x: len(str(x).split()) < 5 and any(word in str(x).lower() for word in ['thank', 'nil', 'no']))]\n",
    "\n",
    "final_sentences_short.to_excel('final_sentences_short.xlsx', index=False)\n"
   ]
  },
  {
   "cell_type": "code",
   "execution_count": null,
   "metadata": {},
   "outputs": [],
   "source": [
    "short_sentences = final_sentences[final_sentences['value'].apply(lambda x: len(str(x).split()) < 5)]\n",
    "\n",
    "for i in short_sentences['value']:\n",
    "    print(i)"
   ]
  },
  {
   "cell_type": "markdown",
   "metadata": {},
   "source": [
    "## 3. Topic Modelling"
   ]
  },
  {
   "cell_type": "code",
   "execution_count": 151,
   "metadata": {},
   "outputs": [],
   "source": [
    "# Topic Classification using BerTOPIC\n",
    "\n",
    "from bertopic import BERTopic\n",
    "from bertopic.vectorizers import ClassTfidfTransformer\n",
    "# https://maartengr.github.io/BERTopic/index.html\n",
    "ctfidf_model = ClassTfidfTransformer(reduce_frequent_words=True)\n",
    "topic_model = BERTopic(ctfidf_model=ctfidf_model, embedding_model=\"all-MiniLM-L6-v2\")\n"
   ]
  },
  {
   "cell_type": "code",
   "execution_count": 19,
   "metadata": {},
   "outputs": [],
   "source": [
    "# remove long responses as the model can't handle these\n",
    "string_list = learning_connections_melt['value'][learning_connections_melt['variable'] == \"Is there anything further you would like to share? (Optional)\"].tolist()\n",
    "for i, string in enumerate(string_list):\n",
    "    if len(string) > 2000:\n",
    "        string_list[i] = \"RESPONSE TOO LONG\""
   ]
  },
  {
   "cell_type": "code",
   "execution_count": 22,
   "metadata": {},
   "outputs": [],
   "source": [
    "# get topics for each question\n",
    "\n",
    "topics, probs = topic_model.fit_transform(string_list)\n",
    "\n",
    "topic_model.get_topic_info()"
   ]
  },
  {
   "cell_type": "code",
   "execution_count": 24,
   "metadata": {},
   "outputs": [],
   "source": [
    "# Create a data frame with the identified topics and lists of words\n",
    "\n",
    "data_list = []\n",
    "\n",
    "for i in range(-1, topic_model.get_topic_info().shape[0]-1):    \n",
    "    values = topic_model.get_topic(i)\n",
    "    v_list = []\n",
    "    for v in values:\n",
    "        v_list.append(v[0])\n",
    "    data_list.append({\"Topic\": i, \"Theme_words\":v_list})\n",
    "\n",
    "data_list_df = pd.DataFrame(data_list)"
   ]
  },
  {
   "cell_type": "code",
   "execution_count": 25,
   "metadata": {},
   "outputs": [],
   "source": [
    "# Find the number of responses associated with each topic\n",
    "topic_counts = topic_model.get_topic_info()\n",
    "topic_counts.drop(\"Name\", axis =1, inplace=True)"
   ]
  },
  {
   "cell_type": "code",
   "execution_count": 26,
   "metadata": {},
   "outputs": [],
   "source": [
    "# Create a dataframe with the topics and counts\n",
    "data_list_df = data_list_df.merge(topic_counts, on=\"Topic\")"
   ]
  },
  {
   "cell_type": "code",
   "execution_count": 27,
   "metadata": {},
   "outputs": [],
   "source": [
    "# create a dataframe which groups each response by topic and shows what topic it is grouped against.\n",
    "new_topic_df = pd.DataFrame({\"Topic\": topics, \"value\": learning_connections_melt['value'][learning_connections_melt['variable'] == \"Is there anything further you would like to share? (Optional)\"]})\n",
    "new_topic_df = new_topic_df.merge(data_list_df, on='Topic')"
   ]
  },
  {
   "cell_type": "code",
   "execution_count": 28,
   "metadata": {},
   "outputs": [],
   "source": [
    "# Save it all to an excel file\n",
    "\n",
    "writer = pd.ExcelWriter(\"themes\\learning_connections_Is there anything further you would like to share.xlsx\")\n",
    "\n",
    "data_list_df.to_excel(writer, sheet_name='Topics')\n",
    "new_topic_df.to_excel(writer, sheet_name='Grouped_responses')\n",
    "\n",
    "writer.save()"
   ]
  },
  {
   "cell_type": "code",
   "execution_count": 9,
   "metadata": {},
   "outputs": [],
   "source": [
    "all_qual.to_excel('all_qual_responses.xlsx')"
   ]
  }
 ],
 "metadata": {
  "kernelspec": {
   "display_name": "Python 3",
   "language": "python",
   "name": "python3"
  },
  "language_info": {
   "codemirror_mode": {
    "name": "ipython",
    "version": 3
   },
   "file_extension": ".py",
   "mimetype": "text/x-python",
   "name": "python",
   "nbconvert_exporter": "python",
   "pygments_lexer": "ipython3",
   "version": "3.8.6"
  }
 },
 "nbformat": 4,
 "nbformat_minor": 5
}
